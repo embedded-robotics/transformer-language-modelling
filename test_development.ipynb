{
 "cells": [
  {
   "cell_type": "code",
   "execution_count": 1,
   "metadata": {},
   "outputs": [],
   "source": [
    "from utils import *\n",
    "import numpy as np\n",
    "from transformer_lm import *\n",
    "from sklearn.metrics import accuracy_score\n",
    "from lm import *"
   ]
  },
  {
   "cell_type": "code",
   "execution_count": 2,
   "metadata": {},
   "outputs": [],
   "source": [
    "def read_text(file):\n",
    "    \"\"\"\n",
    "    :param file:\n",
    "    :return: The text in the given file as a single string\n",
    "    \"\"\"\n",
    "    all_text = \"\"\n",
    "    for line in open(file):\n",
    "        all_text += line\n",
    "    print(\"%i chars read in\" % len(all_text))\n",
    "    return all_text\n"
   ]
  },
  {
   "cell_type": "code",
   "execution_count": 3,
   "metadata": {},
   "outputs": [
    {
     "name": "stdout",
     "output_type": "stream",
     "text": [
      "100000 chars read in\n",
      "500 chars read in\n"
     ]
    }
   ],
   "source": [
    "train_path = \"data/text8-100k.txt\"\n",
    "dev_path = \"data/text8-dev.txt\"\n",
    "\n",
    "train_text = read_text(train_path)\n",
    "dev_text = read_text(dev_path)"
   ]
  },
  {
   "cell_type": "code",
   "execution_count": 4,
   "metadata": {},
   "outputs": [
    {
     "name": "stdout",
     "output_type": "stream",
     "text": [
      "['a', 'b', 'c', 'd', 'e', 'f', 'g', 'h', 'i', 'j', 'k', 'l', 'm', 'n', 'o', 'p', 'q', 'r', 's', 't', 'u', 'v', 'w', 'x', 'y', 'z', ' ']\n"
     ]
    }
   ],
   "source": [
    "# Vocabs is lowercase letters a to z and space\n",
    "vocab = [chr(ord('a') + i) for i in range(0, 26)] + [' ']\n",
    "vocab_index = Indexer()\n",
    "for char in vocab:\n",
    "    vocab_index.add_and_get_index(char)\n",
    "print(repr(vocab_index))"
   ]
  },
  {
   "cell_type": "code",
   "execution_count": 5,
   "metadata": {},
   "outputs": [
    {
     "name": "stderr",
     "output_type": "stream",
     "text": [
      "c:\\Users\\muhammadawais.naeem\\Anaconda3\\envs\\deep_learning_general\\Lib\\site-packages\\torch\\nn\\modules\\transformer.py:282: UserWarning: enable_nested_tensor is True, but self.use_nested_tensor is False because encoder_layer.self_attn.batch_first was not True(use batch_first for better inference performance)\n",
      "  warnings.warn(f\"enable_nested_tensor is True, but self.use_nested_tensor is False because {why_not_sparsity_fast_path}\")\n",
      "c:\\Users\\muhammadawais.naeem\\Anaconda3\\envs\\deep_learning_general\\Lib\\site-packages\\tqdm\\auto.py:21: TqdmWarning: IProgress not found. Please update jupyter and ipywidgets. See https://ipywidgets.readthedocs.io/en/stable/user_install.html\n",
      "  from .autonotebook import tqdm as notebook_tqdm\n"
     ]
    },
    {
     "name": "stdout",
     "output_type": "stream",
     "text": [
      "Epoch: 1, Total Loss: 11905.176633238792\n",
      "Epoch: 2, Total Loss: 10771.858766317368\n",
      "Epoch: 3, Total Loss: 10073.365467965603\n",
      "Epoch: 4, Total Loss: 9582.374380111694\n",
      "Epoch: 5, Total Loss: 9236.08975893259\n"
     ]
    }
   ],
   "source": [
    "args = None\n",
    "model = train_lm(args, train_text, dev_text, vocab_index)"
   ]
  },
  {
   "cell_type": "code",
   "execution_count": 6,
   "metadata": {},
   "outputs": [
    {
     "name": "stdout",
     "output_type": "stream",
     "text": [
      "=====Results=====\n",
      "{\n",
      "  \"sane\": true,\n",
      "  \"normalizes\": true,\n",
      "  \"range\": true,\n",
      "  \"log_prob\": -922.5628107022494,\n",
      "  \"avg_log_prob\": -1.8451256214044989,\n",
      "  \"perplexity\": 6.32889478511868\n",
      "}\n"
     ]
    },
    {
     "data": {
      "text/plain": [
       "{'sane': True,\n",
       " 'normalizes': True,\n",
       " 'range': True,\n",
       " 'log_prob': -922.5628107022494,\n",
       " 'avg_log_prob': -1.8451256214044989,\n",
       " 'perplexity': 6.32889478511868}"
      ]
     },
     "execution_count": 6,
     "metadata": {},
     "output_type": "execute_result"
    }
   ],
   "source": [
    "print_evaluation(dev_text, model, vocab_index, 'output.json')"
   ]
  },
  {
   "cell_type": "code",
   "execution_count": null,
   "metadata": {},
   "outputs": [],
   "source": []
  }
 ],
 "metadata": {
  "kernelspec": {
   "display_name": "deep_learning_general",
   "language": "python",
   "name": "python3"
  },
  "language_info": {
   "codemirror_mode": {
    "name": "ipython",
    "version": 3
   },
   "file_extension": ".py",
   "mimetype": "text/x-python",
   "name": "python",
   "nbconvert_exporter": "python",
   "pygments_lexer": "ipython3",
   "version": "3.11.5"
  }
 },
 "nbformat": 4,
 "nbformat_minor": 2
}
